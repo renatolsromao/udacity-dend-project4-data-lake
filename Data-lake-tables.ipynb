{
 "cells": [
  {
   "cell_type": "markdown",
   "metadata": {},
   "source": [
    "# Udacity Data Engineering - Project 4 - Data Lake"
   ]
  },
  {
   "cell_type": "markdown",
   "metadata": {},
   "source": [
    "Read and check the correct information is provided in the Analytics Data Lake."
   ]
  },
  {
   "cell_type": "markdown",
   "metadata": {},
   "source": [
    "## Create Spark Session and configs"
   ]
  },
  {
   "cell_type": "code",
   "execution_count": 1,
   "metadata": {},
   "outputs": [],
   "source": [
    "# import libraries\n",
    "import os\n",
    "import configparser\n",
    "from datetime import datetime\n",
    "\n",
    "from pyspark.sql import SparkSession\n",
    "from pyspark.sql.functions import udf, col\n",
    "from pyspark.sql.functions import year, month, dayofmonth, hour, weekofyear, date_format, from_unixtime"
   ]
  },
  {
   "cell_type": "code",
   "execution_count": 2,
   "metadata": {},
   "outputs": [],
   "source": [
    "# Aws env config\n",
    "config = configparser.ConfigParser()\n",
    "config.read('dl.cfg')\n",
    "\n",
    "os.environ['AWS_ACCESS_KEY_ID'] = config['AWS']['ACCESS_KEY_ID']\n",
    "os.environ['AWS_SECRET_ACCESS_KEY'] = config['AWS']['SECRET_ACCESS_KEY']\n",
    "\n",
    "my_aws_path = config['AWS']['S3_FOLDER']"
   ]
  },
  {
   "cell_type": "code",
   "execution_count": 3,
   "metadata": {},
   "outputs": [],
   "source": [
    "# create sparksession\n",
    "spark = SparkSession \\\n",
    "    .builder \\\n",
    "    .appName(\"Pyspark DataLake\") \\\n",
    "    .config(\"spark.jars.packages\",\"org.apache.hadoop:hadoop-aws:2.7.0\") \\\n",
    "    .getOrCreate()"
   ]
  },
  {
   "cell_type": "markdown",
   "metadata": {},
   "source": [
    "## Read Artists Table Data"
   ]
  },
  {
   "cell_type": "code",
   "execution_count": 5,
   "metadata": {},
   "outputs": [
    {
     "name": "stdout",
     "output_type": "stream",
     "text": [
      "+------------------+--------------------+--------------------+---------------+----------------+\n",
      "|         artist_id|         artist_name|     artist_location|artist_latitude|artist_longitude|\n",
      "+------------------+--------------------+--------------------+---------------+----------------+\n",
      "|ARNF6401187FB57032|   Sophie B. Hawkins|New York, NY [Man...|       40.79086|       -73.96644|\n",
      "|AROUOZZ1187B9ABE51|         Willie Bobo|New York, NY [Spa...|       40.79195|       -73.94512|\n",
      "|AREBBGV1187FB523D2|Mike Jones (Featu...|         Houston, TX|           null|            null|\n",
      "|ARD842G1187B997376|          Blue Rodeo|Toronto, Ontario,...|       43.64856|       -79.38533|\n",
      "|ARDR4AC1187FB371A1|Montserrat Caball...|                    |           null|            null|\n",
      "|ARPFHN61187FB575F6|         Lupe Fiasco|         Chicago, IL|       41.88415|       -87.63241|\n",
      "|AR9AWNF1187B9AB0B4|Kenny G featuring...|Seattle, Washingt...|           null|            null|\n",
      "|ARIG6O41187B988BDD|     Richard Souther|       United States|       37.16793|       -95.84502|\n",
      "|AR10USD1187B99F3F1|Tweeterfriendly M...|Burlington, Ontar...|           null|            null|\n",
      "|AR3JMC51187B9AE49D|     Backstreet Boys|         Orlando, FL|       28.53823|       -81.37739|\n",
      "|ARLTWXK1187FB5A3F8|         King Curtis|      Fort Worth, TX|       32.74863|       -97.32925|\n",
      "|ARBGXIG122988F409D|          Steel Rain|     California - SF|       37.77916|      -122.42005|\n",
      "|ARAJPHH1187FB5566A|     The Shangri-Las|          Queens, NY|        40.7038|       -73.83168|\n",
      "|ARMJAGH1187FB546F3|        The Box Tops|         Memphis, TN|       35.14968|       -90.04892|\n",
      "|ARQGYP71187FB44566|        Jimmy Wakely|         Mineola, AR|       34.31109|       -94.02978|\n",
      "|AR47JEX1187B995D81|        SUE THOMPSON|          Nevada, MO|       37.83721|       -94.35868|\n",
      "|ARQ9BO41187FB5CF1F|          John Davis|        Pennsylvania|       40.99471|       -77.60454|\n",
      "|ARGCY1Y1187B9A4FA5|            Gloriana|      Nashville, TN.|       36.16778|       -86.77836|\n",
      "|AR36F9J1187FB406F1|      Bombay Rockers|             Denmark|       56.27609|         9.51695|\n",
      "|ARB29H41187B98F0EF|       Terry Callier|             Chicago|       41.88415|       -87.63241|\n",
      "+------------------+--------------------+--------------------+---------------+----------------+\n",
      "only showing top 20 rows\n",
      "\n"
     ]
    }
   ],
   "source": [
    "artists_table_df = spark.read.parquet(\"s3a://{}/artists_table/\".format(my_aws_path))\n",
    "artists_table_df.show()"
   ]
  },
  {
   "cell_type": "markdown",
   "metadata": {},
   "source": [
    "## Read Time Table Data"
   ]
  },
  {
   "cell_type": "code",
   "execution_count": 6,
   "metadata": {},
   "outputs": [
    {
     "name": "stdout",
     "output_type": "stream",
     "text": [
      "+----------------+----+---+----+-------+----+-----+\n",
      "|             ts_|hour|day|week|weekday|year|month|\n",
      "+----------------+----+---+----+-------+----+-----+\n",
      "|1.543069415796E9|  14| 24|  47|      6|2018|   11|\n",
      "|1.543074987796E9|  15| 24|  47|      6|2018|   11|\n",
      "|1.543524187796E9|  20| 29|  48|      4|2018|   11|\n",
      "|1.543527094796E9|  21| 29|  48|      4|2018|   11|\n",
      "|1.542642234796E9|  15| 19|  47|      1|2018|   11|\n",
      "|1.541839459796E9|   8| 10|  45|      6|2018|   11|\n",
      "|1.541878233796E9|  19| 10|  45|      6|2018|   11|\n",
      "|1.542314996796E9|  20| 15|  46|      4|2018|   11|\n",
      "|1.542317497796E9|  21| 15|  46|      4|2018|   11|\n",
      "|1.542321920796E9|  22| 15|  46|      4|2018|   11|\n",
      "|1.542801099796E9|  11| 21|  47|      3|2018|   11|\n",
      "|1.542842644796E9|  23| 21|  47|      3|2018|   11|\n",
      "|1.542165470796E9|   3| 14|  46|      3|2018|   11|\n",
      "|1.542183561796E9|   8| 14|  46|      3|2018|   11|\n",
      "|1.542210687796E9|  15| 14|  46|      3|2018|   11|\n",
      "|1.543193525796E9|   0| 26|  48|      1|2018|   11|\n",
      "|1.543215367796E9|   6| 26|  48|      1|2018|   11|\n",
      "|1.543219679796E9|   8| 26|  48|      1|2018|   11|\n",
      "|1.543221964796E9|   8| 26|  48|      1|2018|   11|\n",
      "|1.543236314796E9|  12| 26|  48|      1|2018|   11|\n",
      "+----------------+----+---+----+-------+----+-----+\n",
      "only showing top 20 rows\n",
      "\n"
     ]
    }
   ],
   "source": [
    "time_table_df = spark.read.parquet('s3a://{}/time_table/'.format(my_aws_path))\n",
    "time_table_df.show()"
   ]
  },
  {
   "cell_type": "markdown",
   "metadata": {},
   "source": [
    "## Read Songs Table Data"
   ]
  },
  {
   "cell_type": "code",
   "execution_count": 7,
   "metadata": {},
   "outputs": [
    {
     "name": "stdout",
     "output_type": "stream",
     "text": [
      "+------------------+--------------------+---------+----+------------------+\n",
      "|           song_id|               title| duration|year|         artist_id|\n",
      "+------------------+--------------------+---------+----+------------------+\n",
      "|SOAOIBZ12AB01815BE|I Hold Your Hand ...| 43.36281|2000|ARPBNLO1187FB3D52F|\n",
      "|SONYPOM12A8C13B2D7|I Think My Wife I...|186.48771|2005|ARDNS031187B9924F0|\n",
      "|SODREIN12A58A7F2E5|A Whiter Shade Of...|326.00771|   0|ARLTWXK1187FB5A3F8|\n",
      "|SOYMRWW12A6D4FAB14|The Moon And I (O...| 267.7024|   0|ARKFYS91187B98E58F|\n",
      "|SOWQTQZ12A58A7B63E|Streets On Fire (...|279.97995|   0|ARPFHN61187FB575F6|\n",
      "|SOUDSGM12AC9618304|Insatiable (Instr...|266.39628|   0|ARNTLGG11E2835DDB9|\n",
      "|SOPEGZN12AB0181B3D|Get Your Head Stu...| 45.66159|   0|AREDL271187FB40F44|\n",
      "|SOBBUGU12A8C13E95D|Setting Fire to S...|207.77751|2004|ARMAC4T1187FB3FA4C|\n",
      "|SOBAYLL12A8C138AF9|Sono andati? Fing...|511.16363|   0|ARDR4AC1187FB371A1|\n",
      "|SOOLYAZ12A6701F4A6|Laws Patrolling (...|173.66159|   0|AREBBGV1187FB523D2|\n",
      "|SOFFKZS12AB017F194|A Higher Place (A...|236.17261|1994|ARBEBBY1187B9B43DB|\n",
      "|SOBLGCN12AB0183212|James (Hold The L...|124.86485|1985|AR47JEX1187B995D81|\n",
      "|SONWXQJ12A8C134D94|The Ballad Of Sle...|  305.162|1994|ARNF6401187FB57032|\n",
      "|SOBBXLX12A58A79DDA|Erica (2005 Digit...|138.63138|   0|AREDBBQ1187B98AFF5|\n",
      "|SOBKWDJ12A8C13B2F3|Wild Rose (Back 2...|230.71302|   0|AR36F9J1187FB406F1|\n",
      "|SOGNCJP12A58A80271|Do You Finally Ne...|342.56934|1972|ARB29H41187B98F0EF|\n",
      "|SOTCKKY12AB018A141|Sonnerie lalaleul...| 29.54404|   0|ARGSAFR1269FB35070|\n",
      "|SOFNOQK12AB01840FC|Kutt Free (DJ Vol...|407.37914|   0|ARNNKDK1187B98BBD5|\n",
      "|SOWTBJW12AC468AC6E|Broken-Down Merry...|151.84934|   0|ARQGYP71187FB44566|\n",
      "|SOGXHEG12AB018653E|It Makes No Diffe...|133.32853|1992|AR0RCMP1187FB3F427|\n",
      "+------------------+--------------------+---------+----+------------------+\n",
      "only showing top 20 rows\n",
      "\n"
     ]
    }
   ],
   "source": [
    "songs_table_df = spark.read.parquet('s3a://{}/songs_table/'.format(my_aws_path))\n",
    "songs_table_df.show()"
   ]
  },
  {
   "cell_type": "markdown",
   "metadata": {},
   "source": [
    "## Read users table Data"
   ]
  },
  {
   "cell_type": "code",
   "execution_count": 9,
   "metadata": {},
   "outputs": [
    {
     "name": "stdout",
     "output_type": "stream",
     "text": [
      "+------+----------+---------+------+-----+\n",
      "|userId| firstName| lastName|gender|level|\n",
      "+------+----------+---------+------+-----+\n",
      "|    88|  Mohammad|Rodriguez|     M| paid|\n",
      "|    88|  Mohammad|Rodriguez|     M| free|\n",
      "|    68|    Jordan|Rodriguez|     F| free|\n",
      "|    29|Jacqueline|    Lynch|     F| free|\n",
      "|    11| Christian|   Porter|     F| free|\n",
      "|    53|   Celeste| Williams|     F| free|\n",
      "|    69|  Anabelle|  Simpson|     F| free|\n",
      "|    75|    Joseph|Gutierrez|     M| free|\n",
      "|    40|    Tucker| Garrison|     M| free|\n",
      "|     2|   Jizelle| Benjamin|     F| free|\n",
      "|    14|  Theodore|   Harris|     M| free|\n",
      "|    52|  Theodore|    Smith|     M| free|\n",
      "|    56|    Cienna|  Freeman|     F| free|\n",
      "|    12|    Austin|  Rosales|     M| free|\n",
      "|    19|   Zachary|   Thomas|     M| free|\n",
      "|    23|    Morris|  Gilmore|     M| free|\n",
      "|    55|    Martin|  Johnson|     M| free|\n",
      "|    66|     Kevin| Arellano|     M| free|\n",
      "|    64|    Hannah|  Calhoun|     F| free|\n",
      "|   100|     Adler|  Barrera|     M| free|\n",
      "+------+----------+---------+------+-----+\n",
      "only showing top 20 rows\n",
      "\n"
     ]
    }
   ],
   "source": [
    "users_table_df = spark.read.parquet('s3a://{}/users_table/'.format(my_aws_path))\n",
    "users_table_df.show()"
   ]
  },
  {
   "cell_type": "markdown",
   "metadata": {},
   "source": [
    "## Read Songsplay Table Data"
   ]
  },
  {
   "cell_type": "code",
   "execution_count": 10,
   "metadata": {},
   "outputs": [
    {
     "name": "stdout",
     "output_type": "stream",
     "text": [
      "+----------------+------+-----+-------+---------+---------+--------------------+--------------------+\n",
      "|             ts_|userId|level|song_id|artist_id|sessionId|            location|           userAgent|\n",
      "+----------------+------+-----+-------+---------+---------+--------------------+--------------------+\n",
      "|1.543551178796E9|    24| paid|   null|     null|     1051|Lake Havasu City-...|\"Mozilla/5.0 (Win...|\n",
      "|1.543595117796E9|    16| paid|   null|     null|     1076|Birmingham-Hoover...|\"Mozilla/5.0 (Mac...|\n",
      "|1.542391266796E9|    36| paid|   null|     null|      461|Janesville-Beloit...|\"Mozilla/5.0 (Win...|\n",
      "|1.542398700796E9|    36| paid|   null|     null|      461|Janesville-Beloit...|\"Mozilla/5.0 (Win...|\n",
      "|1.542673837796E9|    25| paid|   null|     null|      594|    Marinette, WI-MI|\"Mozilla/5.0 (Win...|\n",
      "|1.542680795796E9|    85| paid|   null|     null|      658|       Red Bluff, CA|\"Mozilla/5.0 (Mac...|\n",
      "|1.542708529796E9|    15| paid|   null|     null|      716|Chicago-Napervill...|\"Mozilla/5.0 (X11...|\n",
      "|1.542725038796E9|    44| paid|   null|     null|      639|Waterloo-Cedar Fa...|Mozilla/5.0 (Maci...|\n",
      "|1.542417155796E9|    49| paid|   null|     null|      648|San Francisco-Oak...|Mozilla/5.0 (Wind...|\n",
      "|1.542468703796E9|    73| paid|   null|     null|      518|Tampa-St. Petersb...|\"Mozilla/5.0 (Mac...|\n",
      "|1.542495649796E9|    70| paid|   null|     null|      113|San Antonio-New B...|Mozilla/5.0 (Wind...|\n",
      "|1.541261259796E9|    95| paid|   null|     null|      152|   Winston-Salem, NC|\"Mozilla/5.0 (iPh...|\n",
      "|1.543291960796E9|     8| free|   null|     null|      833|Phoenix-Mesa-Scot...|\"Mozilla/5.0 (Win...|\n",
      "|1.543325244796E9|    86| free|   null|     null|      978|La Crosse-Onalask...|\"Mozilla/5.0 (Mac...|\n",
      "|1.543341135796E9|    49| paid|   null|     null|      987|San Francisco-Oak...|Mozilla/5.0 (Wind...|\n",
      "|1.543349224796E9|    80| paid|   null|     null|      992|Portland-South Po...|\"Mozilla/5.0 (Mac...|\n",
      "|1.542997701796E9|    86| free|   null|     null|      869|La Crosse-Onalask...|\"Mozilla/5.0 (Mac...|\n",
      "|1.541751689796E9|    64| free|   null|     null|      166|Los Angeles-Long ...|\"Mozilla/5.0 (iPh...|\n",
      "|1.541799528796E9|    36| paid|   null|     null|      392|Janesville-Beloit...|\"Mozilla/5.0 (Win...|\n",
      "|1.541802473796E9|    25| paid|   null|     null|      297|    Marinette, WI-MI|\"Mozilla/5.0 (Win...|\n",
      "+----------------+------+-----+-------+---------+---------+--------------------+--------------------+\n",
      "only showing top 20 rows\n",
      "\n"
     ]
    }
   ],
   "source": [
    "songplays_table_df = spark.read.parquet('s3a://{}/songplays_table/'.format(my_aws_path))\n",
    "songplays_table_df.show()"
   ]
  },
  {
   "cell_type": "code",
   "execution_count": null,
   "metadata": {},
   "outputs": [],
   "source": []
  }
 ],
 "metadata": {
  "kernelspec": {
   "display_name": "Python 3",
   "language": "python",
   "name": "python3"
  },
  "language_info": {
   "codemirror_mode": {
    "name": "ipython",
    "version": 3
   },
   "file_extension": ".py",
   "mimetype": "text/x-python",
   "name": "python",
   "nbconvert_exporter": "python",
   "pygments_lexer": "ipython3",
   "version": "3.7.3"
  }
 },
 "nbformat": 4,
 "nbformat_minor": 2
}
